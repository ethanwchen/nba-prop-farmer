{
 "cells": [
  {
   "cell_type": "markdown",
   "id": "48298b68",
   "metadata": {},
   "source": [
    "## NBA Prop Projector (w/ Discord Integration)\n",
    "\n",
    "A Discord bot that predicts NBA player performance in their next game using linear regression and Monte Carlo simulation. Users can request a projection for a specific player and statistic, and the bot will provide an interactive visualization with the predicted value and probability distribution.\n",
    "\n",
    "#### Importing necessary libraries and loading Discord token from .env\n",
    "\n",
    "In this section, we import the necessary libraries and load environment variables. The load_dotenv() function reads the .env file and stores the values as environment variables. The TOKEN variable contains the Discord bot token, which is used for authentication."
   ]
  },
  {
   "cell_type": "code",
   "execution_count": 2,
   "id": "6b6365f2",
   "metadata": {},
   "outputs": [],
   "source": [
    "import os\n",
    "import discord\n",
    "import typing\n",
    "from discord.ext import commands\n",
    "from dotenv import load_dotenv\n",
    "import matplotlib.pyplot as plt\n",
    "from nba_api.stats.endpoints import commonplayerinfo, playergamelog\n",
    "from nba_api.stats.static import players\n",
    "from sklearn.linear_model import LinearRegression\n",
    "from sklearn.metrics import mean_squared_error\n",
    "from typing import Optional\n",
    "import numpy as np\n",
    "from numpy.random import randn\n",
    "\n",
    "load_dotenv()\n",
    "TOKEN = os.getenv('DISCORD_TOKEN')"
   ]
  },
  {
   "cell_type": "markdown",
   "id": "f0e89f9f",
   "metadata": {},
   "source": [
    "#### Configuring Discord Intents and Creating the Bot\n",
    "\n",
    "We configure the Discord intents and create an instance of the Bot class. Intents determine what events the bot will receive, and we disable the typing and presence events for simplicity. We also define the command prefix here to invoke our commands."
   ]
  },
  {
   "cell_type": "code",
   "execution_count": null,
   "id": "4144442c",
   "metadata": {},
   "outputs": [],
   "source": [
    "intents = discord.Intents.default()\n",
    "intents.typing = False\n",
    "intents.presences = False\n",
    "\n",
    "bot = commands.Bot(command_prefix='!', intents=intents)"
   ]
  },
  {
   "cell_type": "markdown",
   "id": "fcae703f",
   "metadata": {},
   "source": [
    "#### Utility Functions for Data Retrieval and Analysis\n",
    "\n",
    "The get_player_id function takes a player's full name as input and returns their corresponding player ID. It searches for the player in the NBA API's static list of players using their full name and returns the ID of the first matching player found. If no player is found, it returns None. \n",
    "\n",
    "The get_last_n_games function takes a player ID and a number n as input and returns a DataFrame containing the last n games played by the specified player. It uses the playergamelog.PlayerGameLog endpoint from the NBA API to get the game log for the player in the 2022 season. Then, it returns the first n rows of the resulting DataFrame, which represent the most recent games played by the player."
   ]
  },
  {
   "cell_type": "code",
   "execution_count": null,
   "id": "3023bc17",
   "metadata": {},
   "outputs": [],
   "source": [
    "def get_player_id(player_name):\n",
    "    player_dict = players.find_players_by_full_name(player_name)\n",
    "    return player_dict[0]['id'] if player_dict else None\n",
    "\n",
    "def get_last_n_games(player_id, n):\n",
    "    game_log = playergamelog.PlayerGameLog(player_id, season='2022')\n",
    "    df = game_log.get_data_frames()[0]\n",
    "    return df.head(n)"
   ]
  },
  {
   "cell_type": "markdown",
   "id": "c969b20c",
   "metadata": {},
   "source": [
    "#### Monte Carlo Simulations\n",
    "\n",
    "The monte_carlo_simulation function takes a linear regression model, input features X, target values y, the number of games, and the number of simulations (default is 1000). The purpose of this function is to generate a distribution of the predicted stat using Monte Carlo simulation, accounting for the inherent uncertainty in sports data."
   ]
  },
  {
   "cell_type": "code",
   "execution_count": null,
   "id": "e2d09789",
   "metadata": {},
   "outputs": [],
   "source": [
    "def monte_carlo_simulation(model, X, y, games, simulations=1000):\n",
    "    over_count = 0\n",
    "    under_count = 0\n",
    "    exact_count = 0\n",
    "    mse = mean_squared_error(y, model.predict(X))\n",
    "    std_dev = np.std(y)\n",
    "    predictions = []\n",
    "\n",
    "    for _ in range(simulations):\n",
    "        noise = randn() * std_dev\n",
    "        prediction = model.predict([[games + 1]])[0][0] + noise\n",
    "        prediction = round(prediction)\n",
    "        predictions.append(prediction)\n",
    "        if prediction > games:\n",
    "            over_count += 1\n",
    "        elif prediction < games:\n",
    "            under_count += 1\n",
    "        else:\n",
    "            exact_count += 1\n",
    "\n",
    "    over_percentage = over_count / simulations\n",
    "    under_percentage = under_count / simulations\n",
    "    exact_percentage = exact_count / simulations\n",
    "\n",
    "    return over_percentage, under_percentage, exact_percentage, predictions"
   ]
  },
  {
   "cell_type": "markdown",
   "id": "57585eec",
   "metadata": {},
   "source": [
    "#### Linear Regression\n",
    "\n",
    "The function takes a dataframe df, the desired stat column, and the number of games to use for the projection. This function fits a linear regression model on the data and predicts the stat for the next game."
   ]
  },
  {
   "cell_type": "code",
   "execution_count": null,
   "id": "11f1fe8d",
   "metadata": {},
   "outputs": [],
   "source": [
    "def linear_regression(df, stat, games):\n",
    "    X = np.array(range(1, games + 1)).reshape(-1, 1)\n",
    "    y = df[stat].values.reshape(-1, 1)\n",
    "    model = LinearRegression()\n",
    "    model.fit(X, y)\n",
    "    projected_stat = model.predict([[games + 1]])\n",
    "    return projected_stat[0][0], model, X, y"
   ]
  },
  {
   "cell_type": "markdown",
   "id": "c785262b",
   "metadata": {},
   "source": [
    "#### Discord Bot Events and Commands\n",
    "\n",
    "The on_ready event function is an asynchronous function that is triggered when the Discord bot has successfully connected to the Discord server. It prints a message to the console indicating that the bot is connected and ready for use.\n",
    "\n",
    "The project_stat function is a Discord bot command that takes three arguments: the player's name, the stat to be projected, and the number of games for the projection (default is 5). This function retrieves the player's game data, performs a linear regression to predict the next game's stat, and uses Monte Carlo simulation to generate a distribution of the predicted stat. Finally, it sends the projection and histograms of the stat distribution to the Discord channel."
   ]
  },
  {
   "cell_type": "code",
   "execution_count": null,
   "id": "fff8a7e8",
   "metadata": {},
   "outputs": [],
   "source": [
    "@bot.event\n",
    "async def on_ready():\n",
    "    print(f'{bot.user.name} has connected to Discord!')\n",
    "\n",
    "@bot.command(name='project_stat')\n",
    "async def project_stat(ctx, player_name: str, stat: str, games: Optional[int] = 5):\n",
    "    player_id = get_player_id(player_name)\n",
    "    if player_id is None:\n",
    "        await ctx.send(f\"Player '{player_name}' not found.\")\n",
    "        return\n",
    "\n",
    "    df = get_last_n_games(player_id, games)\n",
    "    if df.empty:\n",
    "        await ctx.send(\"No game data found.\")\n",
    "        return\n",
    "\n",
    "    stat_map = {\n",
    "        \"P\": \"PTS\",\n",
    "        \"R\": \"REB\",\n",
    "        \"A\": \"AST\",\n",
    "        \"PA\": \"PTS_AST\",\n",
    "        \"PR\": \"PTS_REB\",\n",
    "        \"3P\": \"FG3M\"\n",
    "    }\n",
    "\n",
    "    if stat not in stat_map:\n",
    "        await ctx.send(f\"Stat '{stat}' not supported.\")\n",
    "        return\n",
    "\n",
    "    if stat == \"PA\":\n",
    "        df[\"PTS_AST\"] = df[\"PTS\"] + df[\"AST\"]\n",
    "    elif stat == \"PR\":\n",
    "        df[\"PTS_REB\"] = df[\"PTS\"] + df[\"REB\"]\n",
    "\n",
    "    projected_stat, model, X, y = linear_regression(df, stat_map[stat], games)\n",
    "    fig, ax = plt.subplots()\n",
    "    ax.plot(range(1, games + 1), df[stat_map[stat]], 'o-', label='Actual')\n",
    "    ax.plot(games + 1, projected_stat, 'rx', label='Projected', markersize=12)\n",
    "    ax.set_xlabel('Games')\n",
    "    ax.set_ylabel(stat_map[stat])\n",
    "    ax.set_title(f'{player_name} {stat_map[stat]} Projection')\n",
    "    ax.legend()\n",
    "    plt.savefig('projection.png')\n",
    "    over_percentage, under_percentage, exact_percentage, predictions = monte_carlo_simulation(model, X, y, games)\n",
    "    await ctx.send(f\"Over {games} {stat_map[stat]}: {over_percentage * 100:.1f}%, Under {games} {stat_map[stat]}: {under_percentage * 100:.1f}%, Exactly {games} {stat_map[stat]}: {exact_percentage * 100:.1f}%\")\n",
    "    fig, ax = plt.subplots()\n",
    "    min_value = max(min(predictions), 0)\n",
    "    max_value = max(predictions)\n",
    "    bins = np.linspace(min_value, max_value, 50)\n",
    "    ax.hist(predictions, bins=bins, edgecolor='black', alpha=0.75)\n",
    "    ax.set_xlabel(stat_map[stat])\n",
    "    ax.set_ylabel('Frequency')\n",
    "    ax.set_title(f'{player_name} {stat_map[stat]} Distribution (1000 simulations)')\n",
    "    plt.savefig('simulation_histogram.png')\n",
    "    await ctx.send(file=discord.File('simulation_histogram.png'))\n",
    "    await ctx.send(file=discord.File('projection.png'))\n",
    "\n",
    "    \n",
    "bot.run(TOKEN)\n"
   ]
  }
 ],
 "metadata": {
  "kernelspec": {
   "display_name": "Python 3 (ipykernel)",
   "language": "python",
   "name": "python3"
  },
  "language_info": {
   "codemirror_mode": {
    "name": "ipython",
    "version": 3
   },
   "file_extension": ".py",
   "mimetype": "text/x-python",
   "name": "python",
   "nbconvert_exporter": "python",
   "pygments_lexer": "ipython3",
   "version": "3.9.12"
  }
 },
 "nbformat": 4,
 "nbformat_minor": 5
}
